{
 "cells": [
  {
   "cell_type": "code",
   "execution_count": 248,
   "metadata": {},
   "outputs": [],
   "source": [
    "import csv\n",
    "from pyspark.sql import SparkSession\n",
    "\n",
    "spark = SparkSession.builder.appName(\"SpotifyChallenge\").getOrCreate()\n",
    "\n",
    "df = spark.read.csv(\"../stream-processing-template/assets/data/spotify-2023.csv\", header=True, inferSchema=True)"
   ]
  },
  {
   "cell_type": "markdown",
   "metadata": {},
   "source": [
    "### Tasks:\n",
    "\n",
    "#### Most Streamed & Highest Ranking Tracks:\n",
    "\n",
    "Identify the top 5 tracks with the highest number of streams in 2023. <br>\n",
    "Identify the top 5 ranking tracks across all platforms. <br>\n",
    "Is there any crossover between these two findings?\n"
   ]
  },
  {
   "cell_type": "markdown",
   "metadata": {},
   "source": [
    "### Top 5 tracks in number of streams"
   ]
  },
  {
   "cell_type": "markdown",
   "metadata": {},
   "source": [
    "First, we import teh integertype cast module\n"
   ]
  },
  {
   "cell_type": "code",
   "execution_count": null,
   "metadata": {},
   "outputs": [],
   "source": [
    "from pyspark.sql.types import IntegerType"
   ]
  },
  {
   "cell_type": "markdown",
   "metadata": {},
   "source": [
    "from there we convert the whole 'streams' column to integers"
   ]
  },
  {
   "cell_type": "code",
   "execution_count": 249,
   "metadata": {},
   "outputs": [],
   "source": [
    "df = df.withColumn('streams', df['streams'].cast(IntegerType()))"
   ]
  },
  {
   "cell_type": "code",
   "execution_count": null,
   "metadata": {},
   "outputs": [],
   "source": [
    "# df = df.filter(df.streams.isnotNull())"
   ]
  },
  {
   "cell_type": "markdown",
   "metadata": {},
   "source": [
    "then, we create our top5 df, ordering by the desc number of streams"
   ]
  },
  {
   "cell_type": "code",
   "execution_count": 250,
   "metadata": {},
   "outputs": [],
   "source": [
    "top5_streams = df[['track_name', 'artist(s)_name', 'streams']].orderBy(df.streams.desc()).limit(5)"
   ]
  },
  {
   "cell_type": "code",
   "execution_count": 251,
   "metadata": {},
   "outputs": [
    {
     "name": "stdout",
     "output_type": "stream",
     "text": [
      "+-----------------+--------------+----------+\n",
      "|       track_name|artist(s)_name|   streams|\n",
      "+-----------------+--------------+----------+\n",
      "|Take Me To Church|        Hozier|2135158446|\n",
      "|          Circles|   Post Malone|2132335812|\n",
      "|    Love Yourself| Justin Bieber|2123309722|\n",
      "|        All of Me|   John Legend|2086124197|\n",
      "|   Counting Stars|   OneRepublic|2011464183|\n",
      "+-----------------+--------------+----------+\n",
      "\n"
     ]
    }
   ],
   "source": [
    "top5_streams.show()"
   ]
  },
  {
   "cell_type": "markdown",
   "metadata": {},
   "source": [
    "### Top 5 across all platforms\n"
   ]
  },
  {
   "cell_type": "markdown",
   "metadata": {},
   "source": [
    "This is basically the same as the previous exercise. Since there is not a column with this info, we can create one that will be result of the sum of each individual chart presence.\n"
   ]
  },
  {
   "cell_type": "code",
   "execution_count": 252,
   "metadata": {},
   "outputs": [],
   "source": [
    "chart_presence = df.withColumn(\"total_charts_presence\", df.in_spotify_charts + df.in_apple_charts + df.in_deezer_charts + df.in_shazam_charts)"
   ]
  },
  {
   "cell_type": "markdown",
   "metadata": {},
   "source": [
    "Now we have our original df with an extra column. We can now order by total presence and select only the top 5."
   ]
  },
  {
   "cell_type": "code",
   "execution_count": 253,
   "metadata": {},
   "outputs": [],
   "source": [
    "chart_presence = chart_presence.select('track_name', 'total_charts_presence').orderBy(chart_presence.total_charts_presence.desc()).limit(5)"
   ]
  },
  {
   "cell_type": "code",
   "execution_count": 254,
   "metadata": {},
   "outputs": [
    {
     "name": "stdout",
     "output_type": "stream",
     "text": [
      "+--------------------+---------------------+\n",
      "|          track_name|total_charts_presence|\n",
      "+--------------------+---------------------+\n",
      "|             vampire|               1283.0|\n",
      "|            Sprinter|               1267.0|\n",
      "|            fukumean|               1257.0|\n",
      "|Seven (feat. Latt...|               1246.0|\n",
      "|              Tattoo|               1104.0|\n",
      "+--------------------+---------------------+\n",
      "\n"
     ]
    }
   ],
   "source": [
    "chart_presence.show()"
   ]
  },
  {
   "cell_type": "markdown",
   "metadata": {},
   "source": [
    "Lets compare the 2 df side by side."
   ]
  },
  {
   "cell_type": "code",
   "execution_count": 255,
   "metadata": {},
   "outputs": [
    {
     "name": "stdout",
     "output_type": "stream",
     "text": [
      "+-----------------+--------------+----------+\n",
      "|       track_name|artist(s)_name|   streams|\n",
      "+-----------------+--------------+----------+\n",
      "|Take Me To Church|        Hozier|2135158446|\n",
      "|          Circles|   Post Malone|2132335812|\n",
      "|    Love Yourself| Justin Bieber|2123309722|\n",
      "|        All of Me|   John Legend|2086124197|\n",
      "|   Counting Stars|   OneRepublic|2011464183|\n",
      "+-----------------+--------------+----------+\n",
      "\n"
     ]
    }
   ],
   "source": [
    "top5_streams.show()"
   ]
  },
  {
   "cell_type": "code",
   "execution_count": 256,
   "metadata": {},
   "outputs": [
    {
     "name": "stdout",
     "output_type": "stream",
     "text": [
      "+--------------------+---------------------+\n",
      "|          track_name|total_charts_presence|\n",
      "+--------------------+---------------------+\n",
      "|             vampire|               1283.0|\n",
      "|            Sprinter|               1267.0|\n",
      "|            fukumean|               1257.0|\n",
      "|Seven (feat. Latt...|               1246.0|\n",
      "|              Tattoo|               1104.0|\n",
      "+--------------------+---------------------+\n",
      "\n"
     ]
    }
   ],
   "source": [
    "chart_presence.show()"
   ]
  },
  {
   "cell_type": "markdown",
   "metadata": {},
   "source": [
    "### Artists with most tracks in Spotify Charts"
   ]
  },
  {
   "cell_type": "markdown",
   "metadata": {},
   "source": [
    "I will start this one by selecting only the artist with in_spotify_charts different than 0. Meaning, only those who are ranked in Spotify."
   ]
  },
  {
   "cell_type": "code",
   "execution_count": 257,
   "metadata": {},
   "outputs": [],
   "source": [
    "from pyspark.sql.functions import *\n"
   ]
  },
  {
   "cell_type": "markdown",
   "metadata": {},
   "source": [
    "For this one, the first idea was to simply group by artist and COUNT. However, some artists have their name on a feat and might not be considered. So before I start, I will separate the cells with multiple artists into multiple single-artist cells."
   ]
  },
  {
   "cell_type": "code",
   "execution_count": 258,
   "metadata": {},
   "outputs": [],
   "source": [
    "top_spotify_artists = df.select(explode(split('artist(s)_name', ',')), 'in_spotify_charts').filter(df.in_spotify_charts != 0)"
   ]
  },
  {
   "cell_type": "code",
   "execution_count": 259,
   "metadata": {},
   "outputs": [],
   "source": [
    "top_spotify_artists = top_spotify_artists.groupBy(top_spotify_artists['col']).count()"
   ]
  },
  {
   "cell_type": "code",
   "execution_count": 260,
   "metadata": {},
   "outputs": [],
   "source": [
    "top_spotify_artists = top_spotify_artists.orderBy(top_spotify_artists['count'].desc())"
   ]
  },
  {
   "cell_type": "code",
   "execution_count": 261,
   "metadata": {},
   "outputs": [
    {
     "name": "stdout",
     "output_type": "stream",
     "text": [
      "+-------------+-----+\n",
      "|          col|count|\n",
      "+-------------+-----+\n",
      "| Taylor Swift|   22|\n",
      "|    Bad Bunny|   19|\n",
      "|   The Weeknd|   16|\n",
      "|         Feid|   11|\n",
      "|    Bad Bunny|   11|\n",
      "|   Peso Pluma|   11|\n",
      "| Harry Styles|   10|\n",
      "|      Karol G|    9|\n",
      "| Metro Boomin|    8|\n",
      "|        Drake|    7|\n",
      "+-------------+-----+\n",
      "only showing top 10 rows\n",
      "\n"
     ]
    }
   ],
   "source": [
    "top_spotify_artists.show(10)"
   ]
  },
  {
   "cell_type": "markdown",
   "metadata": {},
   "source": [
    "### Attributes of Danceable Tracks\n",
    "\n",
    "Extract tracks with a danceability percentage of more than 80% and display their name, artist, bpm (beats per minute), and danceability percentage. <br>\n",
    "Identify any possible correlation between danceability and bpm."
   ]
  },
  {
   "cell_type": "code",
   "execution_count": 269,
   "metadata": {},
   "outputs": [],
   "source": [
    "danceable_df = df.filter(df['danceability_%'] > 80).select('track_name', 'artist(s)_name', 'bpm', 'danceability_%')\n",
    "danceable_df = danceable_df.withColumn('bpm', danceable_df.bpm.cast('integer'))\n"
   ]
  },
  {
   "cell_type": "code",
   "execution_count": 271,
   "metadata": {},
   "outputs": [
    {
     "name": "stdout",
     "output_type": "stream",
     "text": [
      "+--------------------+--------------------+---+--------------+\n",
      "|          track_name|      artist(s)_name|bpm|danceability_%|\n",
      "+--------------------+--------------------+---+--------------+\n",
      "|            Sprinter|   Dave, Central Cee|141|            92|\n",
      "|            fukumean|               Gunna|130|            85|\n",
      "|     La Bebe - Remix|Peso Pluma, Yng L...|170|            81|\n",
      "|          Classy 101|    Feid, Young Miko|100|            86|\n",
      "|Peso Pluma: Bzrp ...|Bizarrap, Peso Pluma|133|            85|\n",
      "|Popular (with Pla...|The Weeknd, Madon...| 99|            85|\n",
      "|        MOJABI GHOST|    Tainy, Bad Bunny|122|            81|\n",
      "|     Los del Espacio|Big One, Duki, Li...|120|            81|\n",
      "|            AMARGURA|             Karol G|107|            92|\n",
      "|          La Bachata|       Manuel Turizo|125|            84|\n",
      "+--------------------+--------------------+---+--------------+\n",
      "only showing top 10 rows\n",
      "\n"
     ]
    }
   ],
   "source": [
    "danceable_df.show(10)"
   ]
  },
  {
   "cell_type": "markdown",
   "metadata": {},
   "source": [
    "We can first use corr() and see if there is any correlation."
   ]
  },
  {
   "cell_type": "code",
   "execution_count": 263,
   "metadata": {},
   "outputs": [
    {
     "data": {
      "text/plain": [
       "0.016846197056879814"
      ]
     },
     "execution_count": 263,
     "metadata": {},
     "output_type": "execute_result"
    }
   ],
   "source": [
    "danceable_df.corr('bpm', 'danceability_%')"
   ]
  },
  {
   "cell_type": "markdown",
   "metadata": {},
   "source": [
    "The number is really close to 0, meaning that there is no correlation between BPM and danceability."
   ]
  },
  {
   "cell_type": "markdown",
   "metadata": {},
   "source": [
    "However, we can still plot some graphs."
   ]
  },
  {
   "cell_type": "code",
   "execution_count": 264,
   "metadata": {},
   "outputs": [],
   "source": [
    "import matplotlib.pyplot as plt\n",
    "import numpy as np"
   ]
  },
  {
   "cell_type": "markdown",
   "metadata": {},
   "source": [
    "Lets plot danceability x bpm and see how it looks."
   ]
  },
  {
   "cell_type": "code",
   "execution_count": 265,
   "metadata": {},
   "outputs": [
    {
     "data": {
      "image/png": "[encoded data removed]",
      "text/plain": [
       "<Figure size 640x480 with 1 Axes>"
      ]
     },
     "metadata": {},
     "output_type": "display_data"
    }
   ],
   "source": [
    "x = np.array(danceable_df.rdd.map(lambda x : x[3]).collect())\n",
    "y = np.array(danceable_df.rdd.map(lambda x : x[2]).collect())\n",
    "\n",
    "plt.xlabel('Danceability')\n",
    "plt.ylabel('bpm')\n",
    "\n",
    "\n",
    "a, b = np.polyfit(x, y, 1)\n",
    "plt.scatter(x, y)\n",
    "plt.plot(x, a * x + b, color='red')\n",
    "\n",
    "plt.show()"
   ]
  },
  {
   "cell_type": "markdown",
   "metadata": {},
   "source": [
    "Now, lets see how each bpm plots againsts its avg danceability."
   ]
  },
  {
   "cell_type": "code",
   "execution_count": 266,
   "metadata": {},
   "outputs": [],
   "source": [
    "avg_danceability_per_bpm = danceable_df.groupBy(danceable_df['bpm']).avg('danceability_%')"
   ]
  },
  {
   "cell_type": "code",
   "execution_count": 267,
   "metadata": {},
   "outputs": [
    {
     "name": "stdout",
     "output_type": "stream",
     "text": [
      "+---+-------------------+\n",
      "|bpm|avg(danceability_%)|\n",
      "+---+-------------------+\n",
      "|144|               93.0|\n",
      "|141|               92.0|\n",
      "|112|               92.0|\n",
      "|131|               91.0|\n",
      "|104|               90.5|\n",
      "|148|               90.0|\n",
      "|101|               90.0|\n",
      "|115|               90.0|\n",
      "|121|               90.0|\n",
      "| 88|               89.0|\n",
      "|133|              88.75|\n",
      "|135|              88.75|\n",
      "|157|               88.0|\n",
      "|107|              87.75|\n",
      "|130|              87.75|\n",
      "|150|  87.66666666666667|\n",
      "|108|  87.33333333333333|\n",
      "|111|               87.0|\n",
      "|117|               87.0|\n",
      "| 87|               87.0|\n",
      "+---+-------------------+\n",
      "only showing top 20 rows\n",
      "\n"
     ]
    }
   ],
   "source": [
    "avg_danceability_per_bpm.orderBy(avg_danceability_per_bpm['avg(danceability_%)'].desc()).show()"
   ]
  },
  {
   "cell_type": "code",
   "execution_count": 268,
   "metadata": {},
   "outputs": [
    {
     "data": {
      "image/png": "[encoded data removed]",
      "text/plain": [
       "<Figure size 640x480 with 1 Axes>"
      ]
     },
     "metadata": {},
     "output_type": "display_data"
    }
   ],
   "source": [
    "y = np.array(avg_danceability_per_bpm.rdd.map(lambda x : x[0]).collect())\n",
    "x = np.array(avg_danceability_per_bpm.rdd.map(lambda x : x[1]).collect())\n",
    "\n",
    "plt.xlabel('Danceability - avg')\n",
    "plt.ylabel('bpm')\n",
    "\n",
    "a, b = np.polyfit(x, y, 1)\n",
    "plt.plot(x, a*x+b, color='red')\n",
    "\n",
    "plt.scatter(x, y)\n",
    "\n",
    "plt.show()"
   ]
  }
 ],
 "metadata": {
  "kernelspec": {
   "display_name": "Python 3",
   "language": "python",
   "name": "python3"
  },
  "language_info": {
   "codemirror_mode": {
    "name": "ipython",
    "version": 3
   },
   "file_extension": ".py",
   "mimetype": "text/x-python",
   "name": "python",
   "nbconvert_exporter": "python",
   "pygments_lexer": "ipython3",
   "version": "3.7.16"
  }
 },
 "nbformat": 4,
 "nbformat_minor": 2
}
