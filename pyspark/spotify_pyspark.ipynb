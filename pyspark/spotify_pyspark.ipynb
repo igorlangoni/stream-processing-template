{
 "cells": [
  {
   "cell_type": "code",
   "execution_count": 2,
   "metadata": {},
   "outputs": [
    {
     "name": "stderr",
     "output_type": "stream",
     "text": [
      "Setting default log level to \"WARN\".\n",
      "To adjust logging level use sc.setLogLevel(newLevel). For SparkR, use setLogLevel(newLevel).\n",
      "23/12/12 13:32:38 WARN NativeCodeLoader: Unable to load native-hadoop library for your platform... using builtin-java classes where applicable\n",
      "23/12/12 13:32:40 WARN Utils: Service 'SparkUI' could not bind on port 4040. Attempting port 4041.\n",
      "/usr/local/lib/python3.7/site-packages/pyspark/context.py:317: FutureWarning: Python 3.7 support is deprecated in Spark 3.4.\n",
      "  warnings.warn(\"Python 3.7 support is deprecated in Spark 3.4.\", FutureWarning)\n",
      "                                                                                \r"
     ]
    }
   ],
   "source": [
    "import csv \n",
    "from pyspark.sql import SparkSession\n",
    "\n",
    "spark = SparkSession.builder.appName(\"SpotifySongs\").getOrCreate()\n",
    "\n",
    "df = spark.read.csv(\"../stream-processing-template/assets/data/spotify-2023.csv\", header=True, inferSchema=True)\n"
   ]
  },
  {
   "cell_type": "code",
   "execution_count": 14,
   "metadata": {},
   "outputs": [
    {
     "data": {
      "text/plain": [
       "DataFrame[summary: string, track_name: string, artist(s)_name: string, artist_count: string, released_year: string, released_month: string, released_day: string, in_spotify_playlists: string, in_spotify_charts: string, streams: string, in_apple_playlists: string, in_apple_charts: string, in_deezer_playlists: string, in_deezer_charts: string, in_shazam_charts: string, bpm: string, key: string, mode: string, danceability_%: string, valence_%: string, energy_%: string, acousticness_%: string, instrumentalness_%: string, liveness_%: string, speechiness_%: string]"
      ]
     },
     "execution_count": 14,
     "metadata": {},
     "output_type": "execute_result"
    }
   ],
   "source": [
    "df.describe()"
   ]
  },
  {
   "cell_type": "code",
   "execution_count": 16,
   "metadata": {},
   "outputs": [
    {
     "data": {
      "text/plain": [
       "[('track_name', 'string'),\n",
       " ('artist(s)_name', 'string'),\n",
       " ('artist_count', 'int'),\n",
       " ('released_year', 'int'),\n",
       " ('released_month', 'int'),\n",
       " ('released_day', 'int'),\n",
       " ('in_spotify_playlists', 'int'),\n",
       " ('in_spotify_charts', 'int'),\n",
       " ('streams', 'string'),\n",
       " ('in_apple_playlists', 'int'),\n",
       " ('in_apple_charts', 'int'),\n",
       " ('in_deezer_playlists', 'string'),\n",
       " ('in_deezer_charts', 'int'),\n",
       " ('in_shazam_charts', 'string'),\n",
       " ('bpm', 'int'),\n",
       " ('key', 'string'),\n",
       " ('mode', 'string'),\n",
       " ('danceability_%', 'int'),\n",
       " ('valence_%', 'int'),\n",
       " ('energy_%', 'int'),\n",
       " ('acousticness_%', 'int'),\n",
       " ('instrumentalness_%', 'int'),\n",
       " ('liveness_%', 'int'),\n",
       " ('speechiness_%', 'int')]"
      ]
     },
     "execution_count": 16,
     "metadata": {},
     "output_type": "execute_result"
    }
   ],
   "source": [
    "df.dtypes"
   ]
  },
  {
   "cell_type": "code",
   "execution_count": 9,
   "metadata": {},
   "outputs": [
    {
     "data": {
      "text/plain": [
       "DataFrame[summary: string, track_name: string, artist(s)_name: string, artist_count: string, released_year: string, released_month: string, released_day: string, in_spotify_playlists: string, in_spotify_charts: string, streams: string, in_apple_playlists: string, in_apple_charts: string, in_deezer_playlists: string, in_deezer_charts: string, in_shazam_charts: string, bpm: string, key: string, mode: string, danceability_%: string, valence_%: string, energy_%: string, acousticness_%: string, instrumentalness_%: string, liveness_%: string, speechiness_%: string]"
      ]
     },
     "execution_count": 9,
     "metadata": {},
     "output_type": "execute_result"
    }
   ],
   "source": [
    "df.describe()"
   ]
  },
  {
   "cell_type": "code",
   "execution_count": 4,
   "metadata": {},
   "outputs": [
    {
     "name": "stdout",
     "output_type": "stream",
     "text": [
      "+--------------------+--------------------+-------------+----------+\n",
      "|          track_name|      artist(s)_name|released_year|   streams|\n",
      "+--------------------+--------------------+-------------+----------+\n",
      "|Seven (feat. Latt...|    Latto, Jung Kook|         2023| 141381703|\n",
      "|                LALA|         Myke Towers|         2023| 133716286|\n",
      "|             vampire|      Olivia Rodrigo|         2023| 140003974|\n",
      "|        Cruel Summer|        Taylor Swift|         2019| 800840817|\n",
      "|      WHERE SHE GOES|           Bad Bunny|         2023| 303236322|\n",
      "|            Sprinter|   Dave, Central Cee|         2023| 183706234|\n",
      "|     Ella Baila Sola|Eslabon Armado, P...|         2023| 725980112|\n",
      "|            Columbia|             Quevedo|         2023|  58149378|\n",
      "|            fukumean|               Gunna|         2023|  95217315|\n",
      "|     La Bebe - Remix|Peso Pluma, Yng L...|         2023| 553634067|\n",
      "|           un x100to|Bad Bunny, Grupo ...|         2023| 505671438|\n",
      "|           Super Shy|            NewJeans|         2023|  58255150|\n",
      "|             Flowers|         Miley Cyrus|         2023|1316855716|\n",
      "|            Daylight|       David Kushner|         2023| 387570742|\n",
      "|           As It Was|        Harry Styles|         2022|2513188493|\n",
      "|           Kill Bill|                 SZA|         2022|1163093654|\n",
      "|   Cupid - Twin Ver.|         Fifty Fifty|         2023| 496795686|\n",
      "|\"What Was I Made ...|       Billie Eilish|         2023|  30546883|\n",
      "|          Classy 101|    Feid, Young Miko|         2023| 335222234|\n",
      "|          Like Crazy|               Jimin|         2023| 363369738|\n",
      "+--------------------+--------------------+-------------+----------+\n",
      "only showing top 20 rows\n",
      "\n"
     ]
    }
   ],
   "source": [
    "df.select(\"track_name\", \"artist(s)_name\", \"released_year\", \"streams\").show()"
   ]
  },
  {
   "cell_type": "code",
   "execution_count": 28,
   "metadata": {},
   "outputs": [],
   "source": [
    "from pyspark.sql.types import IntegerType"
   ]
  },
  {
   "cell_type": "code",
   "execution_count": 29,
   "metadata": {},
   "outputs": [],
   "source": [
    "df = df.withColumn(\"streams\", df[\"streams\"].cast(IntegerType()))"
   ]
  },
  {
   "cell_type": "code",
   "execution_count": 31,
   "metadata": {},
   "outputs": [
    {
     "name": "stdout",
     "output_type": "stream",
     "text": [
      "+--------------------+--------------------+------------+-------------+--------------+------------+--------------------+-----------------+---------+------------------+---------------+-------------------+----------------+----------------+---+----+-----+--------------+---------+--------+--------------+------------------+----------+-------------+\n",
      "|          track_name|      artist(s)_name|artist_count|released_year|released_month|released_day|in_spotify_playlists|in_spotify_charts|  streams|in_apple_playlists|in_apple_charts|in_deezer_playlists|in_deezer_charts|in_shazam_charts|bpm| key| mode|danceability_%|valence_%|energy_%|acousticness_%|instrumentalness_%|liveness_%|speechiness_%|\n",
      "+--------------------+--------------------+------------+-------------+--------------+------------+--------------------+-----------------+---------+------------------+---------------+-------------------+----------------+----------------+---+----+-----+--------------+---------+--------+--------------+------------------+----------+-------------+\n",
      "|             vampire|      Olivia Rodrigo|           1|         2023|             6|          30|                1397|              113|140003974|                94|            207|                 91|              14|             949|138|   F|Major|            51|       32|      53|            17|                 0|        31|            6|\n",
      "|\"Besharam Rang (F...|Vishal-Shekhar, S...|           6|         2022|            12|          12|                 130|                4|140187018|                21|             79|                  2|               0|               0|116|  G#|Minor|            77|       65|      80|             6|                 0|        15|            4|\n",
      "|I Really Want to ...|Rosa Walton, Hall...|           2|         2020|            12|          18|                 668|                1|140430339|                 0|              0|                 31|               0|            null|125|  D#|Minor|            49|       13|      74|             0|                 0|         9|            4|\n",
      "|Seven (feat. Latt...|    Latto, Jung Kook|           2|         2023|             7|          14|                 553|              147|141381703|                43|            263|                 45|              10|             826|125|   B|Major|            80|       89|      83|            31|                 0|         8|            4|\n",
      "|          Circo Loco|    Drake, 21 Savage|           2|         2022|            11|           4|                1794|                0|141720999|                26|              9|                 17|               0|               3|104|  C#|Major|            73|       25|      61|             1|                 0|        32|            7|\n",
      "|Un Finde | CROSSO...|Big One, FMK, Ke ...|           3|         2023|             4|           4|                 561|               14|142095275|                 4|             14|                 12|               5|              56|192|   B|Major|            50|       85|      52|            11|                 0|        28|            6|\n",
      "|                 212|  Mainstreet, Chefin|           2|         2022|             1|          15|                 352|                0|143139338|                10|              0|                 39|               0|               0|154|   D|Minor|            79|       86|      52|            66|                 0|         9|            7|\n",
      "|        ������������|             YOASOBI|           1|         2023|             4|          12|                 356|               16|143573775|                35|            102|                  8|               1|             117|166|  C#|Major|            57|       84|      94|            11|                 0|        37|            9|\n",
      "|All My Life (feat...|   J. Cole, Lil Durk|           2|         2023|             5|          12|                2175|               23|144565150|                69|            145|                 69|               2|             478|143|  D#|Major|            83|       69|      44|            15|                 0|        10|           33|\n",
      "|              Heaven|         Niall Horan|           1|         2023|             2|          17|                1553|                2|144584800|                61|              6|                 48|               0|             150| 92|   F|Major|            57|       68|      76|             7|                 0|        33|            3|\n",
      "|  Oi Balde - Ao Vivo|    Z�� Neto & Crist|           1|         2023|             2|          14|                 845|                2|145458418|                12|             57|                 47|               1|              33|108|   D|Major|            67|       55|      67|            60|                 0|        80|            5|\n",
      "|Bamba (feat. Aitc...|  Luciano, Aitch, B�|           3|         2022|             9|          22|                 869|                7|146223492|                14|             12|                 12|               2|              28|138|  A#|Major|            80|       82|      81|            14|                 0|        13|           36|\n",
      "|    That's Hilarious|        Charlie Puth|           1|         2022|             4|           8|                 686|                2|146363130|                11|              6|                 12|               0|              15|108|  F#|Major|            71|       55|      44|            74|                 0|        11|            6|\n",
      "|   Mas Rica Que Ayer|Mambo Kingz, DJ L...|           3|         2023|             3|           2|                1208|               34|146409671|                10|             41|                 20|               0|               1| 94|   B|Major|            82|       53|      67|            34|                 0|         9|            8|\n",
      "|The Joker And The...|Ed Sheeran, Taylo...|           2|         2022|             2|          11|                1430|                0|146789379|                46|              1|                 34|               0|               0|134|null|Major|            53|       31|      31|            92|                 0|        28|            3|\n",
      "|           Di Que Si|Grupo Marca Regis...|           2|         2023|             2|           3|                 356|               10|147290338|                 4|             64|                  4|               2|              37|182|   A|Major|            57|       80|      59|             8|                 0|         6|            5|\n",
      "|          Love Again|       The Kid Laroi|           1|         2023|             1|          27|                1283|                0|147538971|                57|              4|                 48|               0|               0|107|   B|Minor|            66|       47|      40|            72|                 0|        11|            3|\n",
      "|                Talk|                YEAT|           1|         2022|             9|           2|                 920|                0|148461629|                10|              1|                  8|               0|               0|140|   E|Minor|            70|       26|      76|             8|                 0|        54|           23|\n",
      "| One Thing At A Time|       Morgan Wallen|           1|         2022|            12|           2|                 811|                4|148469433|                11|             58|                  5|               0|              21|142|   G|Major|            61|       92|      91|             0|                 0|        26|            3|\n",
      "|Tormenta (feat. B...| Gorillaz, Bad Bunny|           2|         2023|             2|          24|                1529|                0|149778242|                32|             18|                 39|               2|               0| 95|null|Major|            64|       30|      77|            46|                 0|        38|            6|\n",
      "+--------------------+--------------------+------------+-------------+--------------+------------+--------------------+-----------------+---------+------------------+---------------+-------------------+----------------+----------------+---+----+-----+--------------+---------+--------+--------------+------------------+----------+-------------+\n",
      "only showing top 20 rows\n",
      "\n"
     ]
    }
   ],
   "source": [
    "df.filter(df.streams > 140000000).orderBy(df.streams.asc()).show()"
   ]
  },
  {
   "cell_type": "code",
   "execution_count": 5,
   "metadata": {},
   "outputs": [
    {
     "name": "stdout",
     "output_type": "stream",
     "text": [
      "+----------+--------------+------------+-------------+--------------+------------+--------------------+-----------------+---------+------------------+---------------+-------------------+----------------+----------------+---+---+-----+--------------+---------+--------+--------------+------------------+----------+-------------+\n",
      "|track_name|artist(s)_name|artist_count|released_year|released_month|released_day|in_spotify_playlists|in_spotify_charts|  streams|in_apple_playlists|in_apple_charts|in_deezer_playlists|in_deezer_charts|in_shazam_charts|bpm|key| mode|danceability_%|valence_%|energy_%|acousticness_%|instrumentalness_%|liveness_%|speechiness_%|\n",
      "+----------+--------------+------------+-------------+--------------+------------+--------------------+-----------------+---------+------------------+---------------+-------------------+----------------+----------------+---+---+-----+--------------+---------+--------+--------------+------------------+----------+-------------+\n",
      "|   vampire|Olivia Rodrigo|           1|         2023|             6|          30|                1397|              113|140003974|                94|            207|                 91|              14|             949|138|  F|Major|            51|       32|      53|            17|                 0|        31|            6|\n",
      "+----------+--------------+------------+-------------+--------------+------------+--------------------+-----------------+---------+------------------+---------------+-------------------+----------------+----------------+---+---+-----+--------------+---------+--------+--------------+------------------+----------+-------------+\n",
      "\n"
     ]
    }
   ],
   "source": [
    "df.filter(df.track_name == 'vampire').show()"
   ]
  },
  {
   "cell_type": "code",
   "execution_count": 35,
   "metadata": {},
   "outputs": [
    {
     "name": "stdout",
     "output_type": "stream",
     "text": [
      "+-------------+-----+\n",
      "|released_year|count|\n",
      "+-------------+-----+\n",
      "|         2023|  175|\n",
      "|         2022|  402|\n",
      "|         2021|  119|\n",
      "|         2020|   37|\n",
      "|         2019|   36|\n",
      "|         2018|   10|\n",
      "|         2017|   23|\n",
      "|         2016|   18|\n",
      "|         2015|   11|\n",
      "|         2014|   13|\n",
      "|         2013|   13|\n",
      "|         2012|   10|\n",
      "|         2011|   10|\n",
      "|         2010|    7|\n",
      "|         2008|    2|\n",
      "|         2007|    1|\n",
      "|         2005|    1|\n",
      "|         2004|    4|\n",
      "|         2003|    2|\n",
      "|         2002|    6|\n",
      "+-------------+-----+\n",
      "only showing top 20 rows\n",
      "\n"
     ]
    }
   ],
   "source": [
    "df.groupBy(\"released_year\").count().orderBy(df.released_year.desc()).show()"
   ]
  },
  {
   "cell_type": "code",
   "execution_count": 42,
   "metadata": {},
   "outputs": [],
   "source": [
    "df = df.withColumn(\"total_charts_presence\", df.in_spotify_charts + df.in_apple_charts + df.in_deezer_charts + df.in_shazam_charts)"
   ]
  },
  {
   "cell_type": "code",
   "execution_count": 43,
   "metadata": {},
   "outputs": [
    {
     "name": "stdout",
     "output_type": "stream",
     "text": [
      "+--------------------+---------------------+\n",
      "|          track_name|total_charts_presence|\n",
      "+--------------------+---------------------+\n",
      "|             vampire|               1283.0|\n",
      "|            Sprinter|               1267.0|\n",
      "|            fukumean|               1257.0|\n",
      "|Seven (feat. Latt...|               1246.0|\n",
      "|              Tattoo|               1104.0|\n",
      "|     I'm Good (Blue)|               1036.0|\n",
      "|  Baby Don't Hurt Me|                998.0|\n",
      "|    The Next Episode|                994.0|\n",
      "|        Cruel Summer|                867.0|\n",
      "|Miracle (with Ell...|                810.0|\n",
      "|         Eyes Closed|                777.0|\n",
      "|         Bloody Mary|                763.0|\n",
      "|           Moonlight|                737.0|\n",
      "|Everybody Wants T...|                723.0|\n",
      "|     Ella Baila Sola|                703.0|\n",
      "|Set Fire to the Rain|                679.0|\n",
      "|              People|                657.0|\n",
      "|All My Life (feat...|                648.0|\n",
      "|Somewhere Only We...|                643.0|\n",
      "|      WHERE SHE GOES|                623.0|\n",
      "+--------------------+---------------------+\n",
      "only showing top 20 rows\n",
      "\n"
     ]
    }
   ],
   "source": [
    "df.select(\"track_name\", 'total_charts_presence').orderBy(df.total_charts_presence.desc()).show()"
   ]
  },
  {
   "cell_type": "code",
   "execution_count": 4,
   "metadata": {},
   "outputs": [
    {
     "ename": "AnalysisException",
     "evalue": "[UNRESOLVED_COLUMN.WITH_SUGGESTION] A column or function parameter with name `in_spotify_ranking` cannot be resolved. Did you mean one of the following? [`in_spotify_charts`, `in_spotify_playlists`, `in_apple_charts`, `in_apple_playlists`, `in_shazam_charts`].;\n'Project [track_name#17, 'in_spotify_ranking]\n+- Relation [track_name#17,artist(s)_name#18,artist_count#19,released_year#20,released_month#21,released_day#22,in_spotify_playlists#23,in_spotify_charts#24,streams#25,in_apple_playlists#26,in_apple_charts#27,in_deezer_playlists#28,in_deezer_charts#29,in_shazam_charts#30,bpm#31,key#32,mode#33,danceability_%#34,valence_%#35,energy_%#36,acousticness_%#37,instrumentalness_%#38,liveness_%#39,speechiness_%#40] csv\n",
     "output_type": "error",
     "traceback": [
      "\u001b[0;31m---------------------------------------------------------------------------\u001b[0m",
      "\u001b[0;31mAnalysisException\u001b[0m                         Traceback (most recent call last)",
      "\u001b[0;32m/tmp/ipykernel_22464/89807595.py\u001b[0m in \u001b[0;36m<module>\u001b[0;34m\u001b[0m\n\u001b[0;32m----> 1\u001b[0;31m \u001b[0mdf\u001b[0m\u001b[0;34m.\u001b[0m\u001b[0mselect\u001b[0m\u001b[0;34m(\u001b[0m\u001b[0;34m[\u001b[0m\u001b[0;34m'track_name'\u001b[0m\u001b[0;34m,\u001b[0m \u001b[0;34m'in_spotify_ranking'\u001b[0m\u001b[0;34m]\u001b[0m\u001b[0;34m)\u001b[0m\u001b[0;34m.\u001b[0m\u001b[0mshow\u001b[0m\u001b[0;34m(\u001b[0m\u001b[0;34m)\u001b[0m\u001b[0;34m\u001b[0m\u001b[0;34m\u001b[0m\u001b[0m\n\u001b[0m",
      "\u001b[0;32m/usr/local/lib/python3.7/site-packages/pyspark/sql/dataframe.py\u001b[0m in \u001b[0;36mselect\u001b[0;34m(self, *cols)\u001b[0m\n\u001b[1;32m   3034\u001b[0m         \u001b[0;34m+\u001b[0m\u001b[0;34m-\u001b[0m\u001b[0;34m-\u001b[0m\u001b[0;34m-\u001b[0m\u001b[0;34m-\u001b[0m\u001b[0;34m-\u001b[0m\u001b[0;34m+\u001b[0m\u001b[0;34m-\u001b[0m\u001b[0;34m-\u001b[0m\u001b[0;34m-\u001b[0m\u001b[0;34m+\u001b[0m\u001b[0;34m\u001b[0m\u001b[0;34m\u001b[0m\u001b[0m\n\u001b[1;32m   3035\u001b[0m         \"\"\"\n\u001b[0;32m-> 3036\u001b[0;31m         \u001b[0mjdf\u001b[0m \u001b[0;34m=\u001b[0m \u001b[0mself\u001b[0m\u001b[0;34m.\u001b[0m\u001b[0m_jdf\u001b[0m\u001b[0;34m.\u001b[0m\u001b[0mselect\u001b[0m\u001b[0;34m(\u001b[0m\u001b[0mself\u001b[0m\u001b[0;34m.\u001b[0m\u001b[0m_jcols\u001b[0m\u001b[0;34m(\u001b[0m\u001b[0;34m*\u001b[0m\u001b[0mcols\u001b[0m\u001b[0;34m)\u001b[0m\u001b[0;34m)\u001b[0m\u001b[0;34m\u001b[0m\u001b[0;34m\u001b[0m\u001b[0m\n\u001b[0m\u001b[1;32m   3037\u001b[0m         \u001b[0;32mreturn\u001b[0m \u001b[0mDataFrame\u001b[0m\u001b[0;34m(\u001b[0m\u001b[0mjdf\u001b[0m\u001b[0;34m,\u001b[0m \u001b[0mself\u001b[0m\u001b[0;34m.\u001b[0m\u001b[0msparkSession\u001b[0m\u001b[0;34m)\u001b[0m\u001b[0;34m\u001b[0m\u001b[0;34m\u001b[0m\u001b[0m\n\u001b[1;32m   3038\u001b[0m \u001b[0;34m\u001b[0m\u001b[0m\n",
      "\u001b[0;32m/usr/local/lib/python3.7/site-packages/py4j/java_gateway.py\u001b[0m in \u001b[0;36m__call__\u001b[0;34m(self, *args)\u001b[0m\n\u001b[1;32m   1321\u001b[0m         \u001b[0manswer\u001b[0m \u001b[0;34m=\u001b[0m \u001b[0mself\u001b[0m\u001b[0;34m.\u001b[0m\u001b[0mgateway_client\u001b[0m\u001b[0;34m.\u001b[0m\u001b[0msend_command\u001b[0m\u001b[0;34m(\u001b[0m\u001b[0mcommand\u001b[0m\u001b[0;34m)\u001b[0m\u001b[0;34m\u001b[0m\u001b[0;34m\u001b[0m\u001b[0m\n\u001b[1;32m   1322\u001b[0m         return_value = get_return_value(\n\u001b[0;32m-> 1323\u001b[0;31m             answer, self.gateway_client, self.target_id, self.name)\n\u001b[0m\u001b[1;32m   1324\u001b[0m \u001b[0;34m\u001b[0m\u001b[0m\n\u001b[1;32m   1325\u001b[0m         \u001b[0;32mfor\u001b[0m \u001b[0mtemp_arg\u001b[0m \u001b[0;32min\u001b[0m \u001b[0mtemp_args\u001b[0m\u001b[0;34m:\u001b[0m\u001b[0;34m\u001b[0m\u001b[0;34m\u001b[0m\u001b[0m\n",
      "\u001b[0;32m/usr/local/lib/python3.7/site-packages/pyspark/errors/exceptions/captured.py\u001b[0m in \u001b[0;36mdeco\u001b[0;34m(*a, **kw)\u001b[0m\n\u001b[1;32m    173\u001b[0m                 \u001b[0;31m# Hide where the exception came from that shows a non-Pythonic\u001b[0m\u001b[0;34m\u001b[0m\u001b[0;34m\u001b[0m\u001b[0;34m\u001b[0m\u001b[0m\n\u001b[1;32m    174\u001b[0m                 \u001b[0;31m# JVM exception message.\u001b[0m\u001b[0;34m\u001b[0m\u001b[0;34m\u001b[0m\u001b[0;34m\u001b[0m\u001b[0m\n\u001b[0;32m--> 175\u001b[0;31m                 \u001b[0;32mraise\u001b[0m \u001b[0mconverted\u001b[0m \u001b[0;32mfrom\u001b[0m \u001b[0;32mNone\u001b[0m\u001b[0;34m\u001b[0m\u001b[0;34m\u001b[0m\u001b[0m\n\u001b[0m\u001b[1;32m    176\u001b[0m             \u001b[0;32melse\u001b[0m\u001b[0;34m:\u001b[0m\u001b[0;34m\u001b[0m\u001b[0;34m\u001b[0m\u001b[0m\n\u001b[1;32m    177\u001b[0m                 \u001b[0;32mraise\u001b[0m\u001b[0;34m\u001b[0m\u001b[0;34m\u001b[0m\u001b[0m\n",
      "\u001b[0;31mAnalysisException\u001b[0m: [UNRESOLVED_COLUMN.WITH_SUGGESTION] A column or function parameter with name `in_spotify_ranking` cannot be resolved. Did you mean one of the following? [`in_spotify_charts`, `in_spotify_playlists`, `in_apple_charts`, `in_apple_playlists`, `in_shazam_charts`].;\n'Project [track_name#17, 'in_spotify_ranking]\n+- Relation [track_name#17,artist(s)_name#18,artist_count#19,released_year#20,released_month#21,released_day#22,in_spotify_playlists#23,in_spotify_charts#24,streams#25,in_apple_playlists#26,in_apple_charts#27,in_deezer_playlists#28,in_deezer_charts#29,in_shazam_charts#30,bpm#31,key#32,mode#33,danceability_%#34,valence_%#35,energy_%#36,acousticness_%#37,instrumentalness_%#38,liveness_%#39,speechiness_%#40] csv\n"
     ]
    }
   ],
   "source": [
    "df.select(['track_name', 'in_spotify_ranking']).show()"
   ]
  }
 ],
 "metadata": {
  "kernelspec": {
   "display_name": "Python 3",
   "language": "python",
   "name": "python3"
  },
  "language_info": {
   "codemirror_mode": {
    "name": "ipython",
    "version": 3
   },
   "file_extension": ".py",
   "mimetype": "text/x-python",
   "name": "python",
   "nbconvert_exporter": "python",
   "pygments_lexer": "ipython3",
   "version": "3.7.16"
  }
 },
 "nbformat": 4,
 "nbformat_minor": 2
}
